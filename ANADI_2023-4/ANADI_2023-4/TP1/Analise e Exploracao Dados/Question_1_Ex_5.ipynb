{
 "cells": [
  {
   "cell_type": "code",
   "execution_count": 10,
   "id": "2784aeec-6e0f-4225-941f-dcfbf579be0c",
   "metadata": {},
   "outputs": [
    {
     "name": "stdout",
     "output_type": "stream",
     "text": [
      "               cement_co2  coal_co2  flaring_co2   gas_co2  methane  \\\n",
      "country                                                               \n",
      "United States      40.055  1750.037       52.728  1364.198  639.154   \n",
      "\n",
      "               nitrous_oxide   oil_co2  \n",
      "country                                 \n",
      "United States         259.03  2379.692  \n",
      "         cement_co2  coal_co2  flaring_co2  gas_co2   methane  nitrous_oxide  \\\n",
      "country                                                                        \n",
      "China       599.141  5920.797        1.722  287.021  1015.726         476.53   \n",
      "\n",
      "          oil_co2  \n",
      "country            \n",
      "China    1116.257  \n",
      "         cement_co2  coal_co2  flaring_co2  gas_co2  methane  nitrous_oxide  \\\n",
      "country                                                                       \n",
      "India        91.512  1123.795        2.661   92.464   617.36        228.242   \n",
      "\n",
      "         oil_co2  \n",
      "country           \n",
      "India    469.662  \n",
      "                           cement_co2  coal_co2  flaring_co2  gas_co2  \\\n",
      "country                                                                 \n",
      "European Union (27) (GCP)         NaN       NaN          NaN      NaN   \n",
      "\n",
      "                           methane  nitrous_oxide  oil_co2  \n",
      "country                                                     \n",
      "European Union (27) (GCP)      NaN            NaN      NaN  \n",
      "         cement_co2  coal_co2  flaring_co2  gas_co2  methane  nitrous_oxide  \\\n",
      "country                                                                       \n",
      "Russia       21.837   413.504       43.061  766.698  599.007         58.484   \n",
      "\n",
      "         oil_co2  \n",
      "country           \n",
      "Russia   353.289  \n"
     ]
    }
   ],
   "source": [
    "import pandas as pd\n",
    "import matplotlib.pyplot as plt\n",
    "import numpy as np\n",
    "dados = pd.read_csv(\"CO_data.csv\" , delimiter=\",\")\n",
    "dados.columns = [\"country\",\"year\",\"population\",\"gdp\",\"cement_co2\",\"co2\",\"coal_co2\",\"energy_per_capita\",\"energy_per_gdp\",\"flaring_co2\",\"gas_co2\",\"methane\",\"nitrous_oxide\",\"oil_co2\"]\n",
    "dados_portugal = dados.loc[dados['country'] == 'Portugal']\n",
    "\n",
    "#Ex 5\n",
    "dados_maior_que_1999_new = dados.loc[dados['year'] > 1999, ['country','cement_co2','coal_co2','flaring_co2','gas_co2','methane','nitrous_oxide','oil_co2']]\n",
    "dados_selecionados = {}\n",
    "df = {}\n",
    "for pais in paises:\n",
    "    dados_selecionados[pais] = dados_maior_que_1999_new[dados_maior_que_1999_new['country'] == pais]\n",
    "    df[pais] = pd.DataFrame(dados_selecionados[pais])\n",
    "\n",
    "\n",
    "medias_pais = {}\n",
    "for pais in paises:\n",
    "    medias_pais[pais] = df[pais].groupby('country').mean().round(3)\n",
    "\n",
    "for pais in paises:\n",
    "    print(medias_pais[pais])\n",
    "\n"
   ]
  },
  {
   "cell_type": "code",
   "execution_count": null,
   "id": "43e65ede-a28c-4eef-b203-4ad0a45007e0",
   "metadata": {},
   "outputs": [],
   "source": []
  }
 ],
 "metadata": {
  "kernelspec": {
   "display_name": "Python 3 (ipykernel)",
   "language": "python",
   "name": "python3"
  },
  "language_info": {
   "codemirror_mode": {
    "name": "ipython",
    "version": 3
   },
   "file_extension": ".py",
   "mimetype": "text/x-python",
   "name": "python",
   "nbconvert_exporter": "python",
   "pygments_lexer": "ipython3",
   "version": "3.11.7"
  }
 },
 "nbformat": 4,
 "nbformat_minor": 5
}
