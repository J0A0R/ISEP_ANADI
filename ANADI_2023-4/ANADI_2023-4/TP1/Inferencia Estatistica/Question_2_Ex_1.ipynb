{
 "cells": [
  {
   "cell_type": "code",
   "execution_count": 2,
   "id": "23ea240b-46bf-49d6-a943-4364228eef80",
   "metadata": {},
   "outputs": [
    {
     "name": "stdout",
     "output_type": "stream",
     "text": [
      "P-value: 0.08971\n",
      "valor de prova: 0.33102\n"
     ]
    }
   ],
   "source": [
    "import pandas as pd\n",
    "import numpy as np\n",
    "import matplotlib.pyplot as plt\n",
    "import scipy.stats as stats\n",
    "dados = pd.read_csv(\"CO_data.csv\" , delimiter=\",\")\n",
    "dados.columns = [\"country\",\"year\",\"population\",\"gdp\",\"cement_co2\",\"co2\",\"coal_co2\",\"energy_per_capita\",\"energy_per_gdp\",\"flaring_co2\",\"gas_co2\",\"methane\",\"nitrous_oxide\",\"oil_co2\"]\n",
    "\n",
    "#Ex 1\n",
    "seed_value = 100 \n",
    "np.random.seed(seed_value)\n",
    "years = pd.Series([i for i in range(1900,2021)]) \n",
    "sampleyears1 = years.sample(n=30,replace=False) \n",
    "# Necessário remover os valores nan para poder  \n",
    "dados_portugal = dados.loc[(dados['year'].isin(sampleyears1)) & (dados['country'] == 'Portugal'), ['gdp']].dropna()\n",
    "dados_hungria = dados.loc[(dados['year'].isin(sampleyears1)) & (dados['country'] == 'Hungary'), ['gdp']].dropna()\n",
    "statistic, p_value =stats.levene(dados_portugal['gdp'],dados_hungria['gdp'])\n",
    "print(\"P-value:\", round(p_value,5))\n",
    "# O valor de prova (0.08971) é superior ao índice de significância considerado (0.05) logo não se deve rejeitar a hipótese nula do teste de levene. Ou seja, devemos considerar que as variâncias são iguais.\n",
    "statistic, p_value =stats.ttest_ind(dados_portugal['gdp'],dados_hungria['gdp'],alternative='greater')\n",
    "print(\"valor de prova:\",round(p_value,5))\n",
    "#O valor de prova (0.33102) é superior ao nível de significância (0.05), logo não se rejeita a hipótese nula. Ou seja, não há evidência estatística, com um nível de significância de 0.05 de que a média do gdp de Portugal é maior do que a média do gdp da Hungria no período considerado "
   ]
  },
  {
   "cell_type": "code",
   "execution_count": null,
   "id": "74158fe1-3c52-4634-8d31-b451679961d2",
   "metadata": {},
   "outputs": [],
   "source": []
  }
 ],
 "metadata": {
  "kernelspec": {
   "display_name": "Python 3 (ipykernel)",
   "language": "python",
   "name": "python3"
  },
  "language_info": {
   "codemirror_mode": {
    "name": "ipython",
    "version": 3
   },
   "file_extension": ".py",
   "mimetype": "text/x-python",
   "name": "python",
   "nbconvert_exporter": "python",
   "pygments_lexer": "ipython3",
   "version": "3.11.7"
  }
 },
 "nbformat": 4,
 "nbformat_minor": 5
}
